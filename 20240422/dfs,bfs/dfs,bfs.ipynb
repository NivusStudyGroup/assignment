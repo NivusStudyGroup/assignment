{
 "cells": [
  {
   "cell_type": "markdown",
   "metadata": {},
   "source": [
    "# 과제 리뷰\n",
    "\n",
    "- [백준 2747 - 피보나치 수](https://www.acmicpc.net/problem/2747)"
   ]
  },
  {
   "cell_type": "code",
   "execution_count": 3,
   "metadata": {},
   "outputs": [
    {
     "name": "stdout",
     "output_type": "stream",
     "text": [
      "55\n"
     ]
    }
   ],
   "source": [
    "n = int(input())\n",
    "arr=[0]\n",
    "sum = 1\n",
    "for i in range(n):\n",
    "    arr.append(sum)\n",
    "    sum += arr[i]\n",
    "print(arr[n])"
   ]
  },
  {
   "cell_type": "markdown",
   "metadata": {},
   "source": [
    "# DFS(깊이우선탐색) vs BFS(너비우선탐색)\n",
    "## DFS(Depth-First Search, 깊이우선탐색)\n",
    "\n",
    "<img src=\"img/dfs2.gif\" width=\"70%\">\n",
    "\n",
    "- DFS는 그래프의 깊은 부분을 우선적으로 탐색하는 알고리즘이다. \n",
    "- 이 방법은 가능한 깊게 그래프를 탐색하고, 더 이상 탐색할 수 없는 경우 이전 분기점으로 돌아가 다른 경로를 탐색한다.\n",
    "- 스택(Stack)을 사용하거나 재귀함수를 통해 구현할 수 있다."
   ]
  },
  {
   "cell_type": "markdown",
   "metadata": {},
   "source": [
    "### 💡 스택(Stack - LIFO:Last In, First Out)\n",
    "- 먼저 들어 온 데이터가 나중에 나가는 후입선출의 자료구조이다.\n",
    "- 입구와 출구가 동일한 형태이다.\n",
    "- python의 경우 리스트를 사용해서 구현한다.\n",
    " \n",
    "   <img src=\"img/stack1.gif\" width=\"70%\">"
   ]
  },
  {
   "cell_type": "markdown",
   "metadata": {},
   "source": [
    "### 💡 재귀함수(Recursive Function)\n",
    "- 재귀 함수란 자기 자신을 다시 호출하는 것을 말한다.\n",
    "- 재귀 함수 적용시 재귀 호출을 종료시키는 조건을 반드시 정의해야 한다.\n",
    "- python의 경우 어느 정도 출력하다가 최대 재귀 깊이(maximum recursion)가 되면 Error와 함께 자동 종료 된다.\n",
    "- 재귀 함수의 실행 과정은 스택의 동작 원리와 유사하다."
   ]
  },
  {
   "cell_type": "code",
   "execution_count": 1,
   "metadata": {},
   "outputs": [
    {
     "name": "stdout",
     "output_type": "stream",
     "text": [
      "1 번째 재귀함수에서 2 번째 재귀함수를 호출합니다.\n",
      "2 번째 재귀함수에서 3 번째 재귀함수를 호출합니다.\n",
      "3 번째 재귀함수에서 4 번째 재귀함수를 호출합니다.\n",
      "4 번째 재귀함수에서 5 번째 재귀함수를 호출합니다.\n",
      "4 번째 재귀함수를 종료합니다.\n",
      "3 번째 재귀함수를 종료합니다.\n",
      "2 번째 재귀함수를 종료합니다.\n",
      "1 번째 재귀함수를 종료합니다.\n"
     ]
    }
   ],
   "source": [
    "# 재귀 함수 예시\n",
    "def recursive_function(i):\n",
    "        # 5번째 호출을 했을 때 종료되도록 종료 조건 명시\n",
    "        if i == 5:\n",
    "            return \n",
    "        print(i, '번째 재귀함수에서', i+1,'번째 재귀함수를 호출합니다.')\n",
    "        recursive_function(i+1)\n",
    "        print(i,'번째 재귀함수를 종료합니다.')\n",
    "\n",
    "recursive_function(1)"
   ]
  },
  {
   "cell_type": "markdown",
   "metadata": {},
   "source": [
    "### 재귀 함수를 활용한 DFS 예시\n",
    "<img src=\"img/ex1.png\" width=\"60%\">"
   ]
  },
  {
   "cell_type": "code",
   "execution_count": 2,
   "metadata": {},
   "outputs": [
    {
     "name": "stdout",
     "output_type": "stream",
     "text": [
      "1 7 4 9 5 8 2 10 3 6 "
     ]
    }
   ],
   "source": [
    "def dfs(graph, v, visited):\n",
    "    # 현재 노드를 방문 처리\n",
    "    visited[v] = True\n",
    "    print(v, end=' ')\n",
    "    # 현재 노드와 연결된 다른 노드를 재귀적으로 방문\n",
    "    for i in graph[v]:\n",
    "        if not visited[i]:\n",
    "            dfs(graph, i, visited)\n",
    "\n",
    "# 각 노드가 연결된 정보를 표현 (2차원 리스트)\n",
    "graph = [\n",
    "    [], # 보통 그래프가 1번부터 시작하는 경우가 많아서 0번째는 비워둠\n",
    "    [7, 5, 3], # 1번 노드와 인접한 노드들\n",
    "    [],        # 2번 노드와 인접한 노드들\n",
    "    [6],\n",
    "    [9], \n",
    "    [8, 10], \n",
    "    [], \n",
    "    [4], \n",
    "    [2],\n",
    "    [], \n",
    "    []\n",
    "]\n",
    "# 각 노드가 방문된 정보를 표현 (1차원 리스트)\n",
    "visited = [False] * 11\n",
    "\n",
    "dfs(graph, 1, visited)"
   ]
  },
  {
   "cell_type": "markdown",
   "metadata": {},
   "source": [
    "## BFS(Breadth-First Search, 너비우선탐색)\n",
    "\n",
    "<img src=\"img/bfs1.gif\" width=\"70%\">\n",
    "\n",
    "- BFS는 시작 노드부터 가까운 노드를 우선적으로 탐색하는 알고리즘이다.\n",
    "- 모든 노드와 거리가 동일할 때 최단 경로를 찾는데 사용된다.\n",
    "- 큐(Queue)를 사용하여 구현한다."
   ]
  },
  {
   "cell_type": "markdown",
   "metadata": {},
   "source": [
    "### 💡 큐(Queue - FIFO : First In, First Out)\n",
    "- 큐는 데이터를 처음에 넣은 것부터 차례대로 꺼내는 선입선출의 자료구조이다.\n",
    "- 즉, 처음 삽입된 요소가 가장 먼저 나오는 구조이다.\n",
    "- python의 경우 리스트를 사용해도 되고 collections 모듈의 `deque`를 사용해도 되지만 `popleft`가 있어 시간 복잡도가 더 낮은 `deque`를 더 많이 사용한다.\n",
    "\n",
    "<img src=\"img/queue1.gif\" width=\"70%\">"
   ]
  },
  {
   "cell_type": "markdown",
   "metadata": {},
   "source": [
    "### 큐를 활용한 BFS예시\n",
    "\n",
    "<img src=\"img/ex1.png\" width=\"70%\">"
   ]
  },
  {
   "cell_type": "code",
   "execution_count": 3,
   "metadata": {},
   "outputs": [
    {
     "name": "stdout",
     "output_type": "stream",
     "text": [
      "1 7 5 3 4 8 10 6 9 2 "
     ]
    }
   ],
   "source": [
    "from collections import deque\n",
    "\n",
    "# BFS 메서드 정의\n",
    "def bfs(graph, start, visited):\n",
    "    # 큐(Queue) 구현을 위해 deque 라이브러리 사용\n",
    "    queue = deque([start])\n",
    "    # 현재 노드를 방문 처리\n",
    "    visited[start] = True\n",
    "    # 큐가 빌 때까지 반복\n",
    "    while queue:\n",
    "        # 큐에서 하나의 원소를 뽑아 출력하기\n",
    "        v = queue.popleft()\n",
    "        print(v, end=' ')\n",
    "        # 아직 방문하지 않은 인접한 원소들을 큐에 삽입\n",
    "        for i in graph[v]:\n",
    "            if not visited[i]:\n",
    "                queue.append(i)\n",
    "                visited[i] = True\n",
    "# 각 노드가 연결된 정보를 표현 (2차원 리스트)\n",
    "graph = [\n",
    "    [], # 보통 그래프가 1번부터 시작하는 경우가 많아서 0번째는 비워둠\n",
    "    [7, 5, 3], # 1번 노드와 인접한 노드들\n",
    "    [],        # 2번 노드와 인접한 노드들\n",
    "    [6],\n",
    "    [9], \n",
    "    [8, 10], \n",
    "    [], \n",
    "    [4], \n",
    "    [2],\n",
    "    [], \n",
    "    []\n",
    "]\n",
    "# 각 노드가 방문된 정보를 표현 (1차원 리스트)\n",
    "visited = [False] * 11\n",
    "\n",
    "bfs(graph, 1, visited)"
   ]
  },
  {
   "cell_type": "markdown",
   "metadata": {},
   "source": [
    "## 과제\n",
    "- [백준 1260](https://www.acmicpc.net/problem/1260)"
   ]
  }
 ],
 "metadata": {
  "kernelspec": {
   "display_name": "py310",
   "language": "python",
   "name": "py310"
  },
  "language_info": {
   "codemirror_mode": {
    "name": "ipython",
    "version": 3
   },
   "file_extension": ".py",
   "mimetype": "text/x-python",
   "name": "python",
   "nbconvert_exporter": "python",
   "pygments_lexer": "ipython3",
   "version": "3.10.11"
  }
 },
 "nbformat": 4,
 "nbformat_minor": 2
}
